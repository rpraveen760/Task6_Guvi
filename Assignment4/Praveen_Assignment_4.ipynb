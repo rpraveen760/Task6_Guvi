{
 "cells": [
  {
   "cell_type": "code",
   "execution_count": 1,
   "id": "07ae45e3",
   "metadata": {},
   "outputs": [],
   "source": [
    "import numpy as np"
   ]
  },
  {
   "cell_type": "code",
   "execution_count": 2,
   "id": "1c931ab2",
   "metadata": {},
   "outputs": [],
   "source": [
    "# Import phi from train data set\n",
    "phi = np.loadtxt('data/train.csv', dtype='float', delimiter=',', skiprows=1,\n",
    "                 usecols=tuple(range(1, 14)))"
   ]
  },
  {
   "cell_type": "code",
   "execution_count": 3,
   "id": "345820b2",
   "metadata": {},
   "outputs": [],
   "source": [
    "# Import y from train data set\n",
    "y = np.loadtxt('data/train.csv', dtype='float', delimiter=',', skiprows=1,\n",
    "               usecols=14, ndmin=2)"
   ]
  },
  {
   "cell_type": "code",
   "execution_count": 4,
   "id": "db5e1809",
   "metadata": {},
   "outputs": [],
   "source": [
    "# Import phi_test from test data set\n",
    "phi_test = np.loadtxt('data/test.csv', dtype='float', delimiter=',',\n",
    "                      skiprows=1, usecols=tuple(range(1, 14)))\n"
   ]
  },
  {
   "cell_type": "code",
   "execution_count": 5,
   "id": "d3d5cba3",
   "metadata": {},
   "outputs": [],
   "source": [
    "# Add a cloloumn of 1s to right of phi and phi_test\n",
    "phi_test = np.concatenate((phi_test, np.ones((105, 1))), axis=1)\n",
    "phi = np.concatenate((phi, np.ones((400, 1))), axis=1)"
   ]
  },
  {
   "cell_type": "code",
   "execution_count": 6,
   "id": "702654c6",
   "metadata": {},
   "outputs": [],
   "source": [
    "# Min Max scaling for phi and phi_test (Feature Engineering)\n",
    "for i in range(0, 13):\n",
    "    col_max = max(phi[:, i])\n",
    "    col_min = min(phi[:, i])\n",
    "    phi[:, i] = (phi[:, i] - col_min) / (col_max - col_min)\n",
    "    phi_test[:, i] = (phi_test[:, i] - col_min) / (col_max - col_min)"
   ]
  },
  {
   "cell_type": "code",
   "execution_count": 7,
   "id": "8da0a1ee",
   "metadata": {},
   "outputs": [],
   "source": [
    "# Log scaling on y\n",
    "y = np.log(y)\n"
   ]
  },
  {
   "cell_type": "code",
   "execution_count": 8,
   "id": "59c59389",
   "metadata": {},
   "outputs": [],
   "source": [
    "# Function to calculate change in error function\n",
    "def delta_w(p, phi, w):\n",
    "    if p == 2:\n",
    "        deltaw = (2 * (np.dot(np.dot(np.transpose(phi), phi), w) -\n",
    "                       np.dot(np.transpose(phi), y)) +\n",
    "                  lambd * p * np.power(np.absolute(w), (p - 1)))\n",
    "    if p < 2 and p > 1:\n",
    "        deltaw = (2 * (np.dot(np.dot(np.transpose(phi), phi), w) -\n",
    "                       np.dot(np.transpose(phi), y)) +\n",
    "                  lambd * p * np.power(np.absolute(w), (p - 1)) * np.sign(w))\n",
    "    return deltaw"
   ]
  },
  {
   "cell_type": "code",
   "execution_count": 9,
   "id": "dc6c0a08",
   "metadata": {},
   "outputs": [],
   "source": [
    "# Dictionary containing filenames as keys and p as values\n",
    "filenames = {'output.csv': 2.0,\n",
    "             'output_p1.csv': 1.75,\n",
    "             'output_p2.csv': 1.5,\n",
    "             'output_p3.csv': 1.3\n",
    "             }\n"
   ]
  },
  {
   "cell_type": "code",
   "execution_count": 11,
   "id": "73cf6eea",
   "metadata": {},
   "outputs": [],
   "source": [
    "# For each item in this dictionary\n",
    "for (fname, p) in filenames.items():\n",
    "    # Set initial w to zeros\n",
    "    w = np.zeros((14, 1))\n",
    "\n",
    "    # Hyperparameter lambda value\n",
    "    lambd = 0.2\n",
    "\n",
    "    # Maximum step size\n",
    "    t = 0.00012\n",
    "\n",
    "    # Calculate new value of w\n",
    "    w_new = w - t * delta_w(p, phi, w)\n",
    "\n",
    "    i = 0\n",
    "    # Repeat steps until error between consecutive w is less than threshold\n",
    "    while(np.linalg.norm(w_new-w) > 10 ** -10):\n",
    "        w = w_new\n",
    "        w_new = w - t * delta_w(p, phi, w)\n",
    "        i = i + 1\n",
    "\n",
    "    # Load values of id\n",
    "    id_test = np.loadtxt('data/test.csv', dtype='int', delimiter=',',\n",
    "                         skiprows=1, usecols=0, ndmin=2)\n",
    "\n",
    "    # Calculate y for test data\n",
    "    y_test = np.exp(np.dot(phi_test, w_new))\n",
    "\n",
    "    # Save the ids and y\n",
    "    np.savetxt(fname, np.concatenate((id_test, y_test), axis=1),\n",
    "               delimiter=',', fmt=['%d', '%f'], header='ID,MEDV', comments='')"
   ]
  },
  {
   "cell_type": "code",
   "execution_count": null,
   "id": "a4efd8d5",
   "metadata": {},
   "outputs": [],
   "source": []
  }
 ],
 "metadata": {
  "kernelspec": {
   "display_name": "Python 3 (ipykernel)",
   "language": "python",
   "name": "python3"
  },
  "language_info": {
   "codemirror_mode": {
    "name": "ipython",
    "version": 3
   },
   "file_extension": ".py",
   "mimetype": "text/x-python",
   "name": "python",
   "nbconvert_exporter": "python",
   "pygments_lexer": "ipython3",
   "version": "3.9.12"
  }
 },
 "nbformat": 4,
 "nbformat_minor": 5
}
